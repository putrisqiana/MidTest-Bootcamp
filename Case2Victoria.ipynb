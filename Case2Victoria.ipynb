{
  "nbformat": 4,
  "nbformat_minor": 0,
  "metadata": {
    "colab": {
      "name": "Case2Victoria.ipynb",
      "provenance": [],
      "toc_visible": true
    },
    "kernelspec": {
      "name": "python3",
      "display_name": "Python 3"
    }
  },
  "cells": [
    {
      "cell_type": "markdown",
      "metadata": {
        "id": "2jtQcT-IAn6Y",
        "colab_type": "text"
      },
      "source": [
        "# Apartment Price in Victoria"
      ]
    },
    {
      "cell_type": "markdown",
      "metadata": {
        "id": "CJQ0KN_vAttt",
        "colab_type": "text"
      },
      "source": [
        "Tony who has profession as a broker wants to predict apartment price in Victoria based on living area environment and apartment conservation status. Determine the best model to predict and redefine new conservation variable in 3 level, A = 1A, B = 2A, C = 2B and 3A."
      ]
    },
    {
      "cell_type": "code",
      "metadata": {
        "id": "2YSt_zsQevTO",
        "colab_type": "code",
        "colab": {}
      },
      "source": [
        "import matplotlib.pyplot as plt\n",
        "import pandas as pd\n",
        "import pylab as pl\n",
        "import numpy as np\n",
        "%matplotlib inline"
      ],
      "execution_count": 0,
      "outputs": []
    },
    {
      "cell_type": "code",
      "metadata": {
        "id": "yd-MKUARe2C6",
        "colab_type": "code",
        "colab": {}
      },
      "source": [
        "data = pd.read_csv('victoria (2).csv')"
      ],
      "execution_count": 0,
      "outputs": []
    },
    {
      "cell_type": "code",
      "metadata": {
        "id": "304M0dIwfZEu",
        "colab_type": "code",
        "outputId": "6ae330e4-0a72-487e-ea47-9e57cb05fbb2",
        "colab": {
          "base_uri": "https://localhost:8080/",
          "height": 224
        }
      },
      "source": [
        "data.head()"
      ],
      "execution_count": 12,
      "outputs": [
        {
          "output_type": "execute_result",
          "data": {
            "text/html": [
              "<div>\n",
              "<style scoped>\n",
              "    .dataframe tbody tr th:only-of-type {\n",
              "        vertical-align: middle;\n",
              "    }\n",
              "\n",
              "    .dataframe tbody tr th {\n",
              "        vertical-align: top;\n",
              "    }\n",
              "\n",
              "    .dataframe thead th {\n",
              "        text-align: right;\n",
              "    }\n",
              "</style>\n",
              "<table border=\"1\" class=\"dataframe\">\n",
              "  <thead>\n",
              "    <tr style=\"text-align: right;\">\n",
              "      <th></th>\n",
              "      <th>row.labels</th>\n",
              "      <th>totalprice</th>\n",
              "      <th>area</th>\n",
              "      <th>zone</th>\n",
              "      <th>category</th>\n",
              "      <th>age</th>\n",
              "      <th>floor</th>\n",
              "      <th>rooms</th>\n",
              "      <th>out</th>\n",
              "      <th>conservation</th>\n",
              "      <th>toilets</th>\n",
              "      <th>garage</th>\n",
              "      <th>elevator</th>\n",
              "      <th>streetcategory</th>\n",
              "      <th>heating</th>\n",
              "      <th>tras</th>\n",
              "    </tr>\n",
              "  </thead>\n",
              "  <tbody>\n",
              "    <tr>\n",
              "      <th>0</th>\n",
              "      <td>1</td>\n",
              "      <td>228000</td>\n",
              "      <td>7530999756</td>\n",
              "      <td>Z45</td>\n",
              "      <td>4B</td>\n",
              "      <td>33</td>\n",
              "      <td>3</td>\n",
              "      <td>5</td>\n",
              "      <td>E100</td>\n",
              "      <td>2B</td>\n",
              "      <td>1</td>\n",
              "      <td>0</td>\n",
              "      <td>1</td>\n",
              "      <td>S3</td>\n",
              "      <td>3A</td>\n",
              "      <td>0</td>\n",
              "    </tr>\n",
              "    <tr>\n",
              "      <th>1</th>\n",
              "      <td>2</td>\n",
              "      <td>409000</td>\n",
              "      <td>1006500015</td>\n",
              "      <td>Z31</td>\n",
              "      <td>3B</td>\n",
              "      <td>5</td>\n",
              "      <td>7</td>\n",
              "      <td>5</td>\n",
              "      <td>E50</td>\n",
              "      <td>1A</td>\n",
              "      <td>2</td>\n",
              "      <td>1</td>\n",
              "      <td>1</td>\n",
              "      <td>S5</td>\n",
              "      <td>4A</td>\n",
              "      <td>1</td>\n",
              "    </tr>\n",
              "    <tr>\n",
              "      <th>2</th>\n",
              "      <td>3</td>\n",
              "      <td>200000</td>\n",
              "      <td>8887000275</td>\n",
              "      <td>Z52</td>\n",
              "      <td>3A</td>\n",
              "      <td>14</td>\n",
              "      <td>8</td>\n",
              "      <td>5</td>\n",
              "      <td>E50</td>\n",
              "      <td>1A</td>\n",
              "      <td>2</td>\n",
              "      <td>0</td>\n",
              "      <td>1</td>\n",
              "      <td>S2</td>\n",
              "      <td>3A</td>\n",
              "      <td>0</td>\n",
              "    </tr>\n",
              "    <tr>\n",
              "      <th>3</th>\n",
              "      <td>4</td>\n",
              "      <td>180000</td>\n",
              "      <td>6261000061</td>\n",
              "      <td>Z62</td>\n",
              "      <td>4A</td>\n",
              "      <td>41</td>\n",
              "      <td>3</td>\n",
              "      <td>4</td>\n",
              "      <td>E50</td>\n",
              "      <td>2A</td>\n",
              "      <td>1</td>\n",
              "      <td>0</td>\n",
              "      <td>0</td>\n",
              "      <td>S3</td>\n",
              "      <td>1A</td>\n",
              "      <td>0</td>\n",
              "    </tr>\n",
              "    <tr>\n",
              "      <th>4</th>\n",
              "      <td>5</td>\n",
              "      <td>443600</td>\n",
              "      <td>1461499939</td>\n",
              "      <td>Z31</td>\n",
              "      <td>3A</td>\n",
              "      <td>22</td>\n",
              "      <td>6</td>\n",
              "      <td>7</td>\n",
              "      <td>E100</td>\n",
              "      <td>1A</td>\n",
              "      <td>2</td>\n",
              "      <td>0</td>\n",
              "      <td>1</td>\n",
              "      <td>S4</td>\n",
              "      <td>4A</td>\n",
              "      <td>1</td>\n",
              "    </tr>\n",
              "  </tbody>\n",
              "</table>\n",
              "</div>"
            ],
            "text/plain": [
              "   row.labels  totalprice        area  ... streetcategory heating  tras\n",
              "0           1      228000  7530999756  ...             S3      3A     0\n",
              "1           2      409000  1006500015  ...             S5      4A     1\n",
              "2           3      200000  8887000275  ...             S2      3A     0\n",
              "3           4      180000  6261000061  ...             S3      1A     0\n",
              "4           5      443600  1461499939  ...             S4      4A     1\n",
              "\n",
              "[5 rows x 16 columns]"
            ]
          },
          "metadata": {
            "tags": []
          },
          "execution_count": 12
        }
      ]
    },
    {
      "cell_type": "markdown",
      "metadata": {
        "id": "XJEybnL8fpRG",
        "colab_type": "text"
      },
      "source": [
        "##Exploratory Data Analysis"
      ]
    },
    {
      "cell_type": "code",
      "metadata": {
        "id": "mlLALB29e8kd",
        "colab_type": "code",
        "outputId": "3a36cb74-558e-42b6-b5c3-dc7721eb2591",
        "colab": {
          "base_uri": "https://localhost:8080/",
          "height": 297
        }
      },
      "source": [
        "data.describe()"
      ],
      "execution_count": 13,
      "outputs": [
        {
          "output_type": "execute_result",
          "data": {
            "text/html": [
              "<div>\n",
              "<style scoped>\n",
              "    .dataframe tbody tr th:only-of-type {\n",
              "        vertical-align: middle;\n",
              "    }\n",
              "\n",
              "    .dataframe tbody tr th {\n",
              "        vertical-align: top;\n",
              "    }\n",
              "\n",
              "    .dataframe thead th {\n",
              "        text-align: right;\n",
              "    }\n",
              "</style>\n",
              "<table border=\"1\" class=\"dataframe\">\n",
              "  <thead>\n",
              "    <tr style=\"text-align: right;\">\n",
              "      <th></th>\n",
              "      <th>row.labels</th>\n",
              "      <th>totalprice</th>\n",
              "      <th>age</th>\n",
              "      <th>floor</th>\n",
              "      <th>rooms</th>\n",
              "      <th>toilets</th>\n",
              "      <th>garage</th>\n",
              "      <th>elevator</th>\n",
              "      <th>tras</th>\n",
              "    </tr>\n",
              "  </thead>\n",
              "  <tbody>\n",
              "    <tr>\n",
              "      <th>count</th>\n",
              "      <td>218.000000</td>\n",
              "      <td>218.000000</td>\n",
              "      <td>218.000000</td>\n",
              "      <td>218.000000</td>\n",
              "      <td>218.000000</td>\n",
              "      <td>218.000000</td>\n",
              "      <td>218.000000</td>\n",
              "      <td>218.000000</td>\n",
              "      <td>218.000000</td>\n",
              "    </tr>\n",
              "    <tr>\n",
              "      <th>mean</th>\n",
              "      <td>109.500000</td>\n",
              "      <td>280741.522936</td>\n",
              "      <td>19.899083</td>\n",
              "      <td>4.440367</td>\n",
              "      <td>4.853211</td>\n",
              "      <td>1.467890</td>\n",
              "      <td>0.243119</td>\n",
              "      <td>0.798165</td>\n",
              "      <td>0.807339</td>\n",
              "    </tr>\n",
              "    <tr>\n",
              "      <th>std</th>\n",
              "      <td>63.075352</td>\n",
              "      <td>69298.460578</td>\n",
              "      <td>14.595590</td>\n",
              "      <td>2.126988</td>\n",
              "      <td>0.634285</td>\n",
              "      <td>0.500116</td>\n",
              "      <td>0.450881</td>\n",
              "      <td>0.402293</td>\n",
              "      <td>0.406787</td>\n",
              "    </tr>\n",
              "    <tr>\n",
              "      <th>min</th>\n",
              "      <td>1.000000</td>\n",
              "      <td>155000.000000</td>\n",
              "      <td>1.000000</td>\n",
              "      <td>1.000000</td>\n",
              "      <td>3.000000</td>\n",
              "      <td>1.000000</td>\n",
              "      <td>0.000000</td>\n",
              "      <td>0.000000</td>\n",
              "      <td>0.000000</td>\n",
              "    </tr>\n",
              "    <tr>\n",
              "      <th>25%</th>\n",
              "      <td>55.250000</td>\n",
              "      <td>228500.000000</td>\n",
              "      <td>11.000000</td>\n",
              "      <td>3.000000</td>\n",
              "      <td>5.000000</td>\n",
              "      <td>1.000000</td>\n",
              "      <td>0.000000</td>\n",
              "      <td>1.000000</td>\n",
              "      <td>1.000000</td>\n",
              "    </tr>\n",
              "    <tr>\n",
              "      <th>50%</th>\n",
              "      <td>109.500000</td>\n",
              "      <td>269750.000000</td>\n",
              "      <td>16.000000</td>\n",
              "      <td>4.000000</td>\n",
              "      <td>5.000000</td>\n",
              "      <td>1.000000</td>\n",
              "      <td>0.000000</td>\n",
              "      <td>1.000000</td>\n",
              "      <td>1.000000</td>\n",
              "    </tr>\n",
              "    <tr>\n",
              "      <th>75%</th>\n",
              "      <td>163.750000</td>\n",
              "      <td>328625.000000</td>\n",
              "      <td>24.000000</td>\n",
              "      <td>5.000000</td>\n",
              "      <td>5.000000</td>\n",
              "      <td>2.000000</td>\n",
              "      <td>0.000000</td>\n",
              "      <td>1.000000</td>\n",
              "      <td>1.000000</td>\n",
              "    </tr>\n",
              "    <tr>\n",
              "      <th>max</th>\n",
              "      <td>218.000000</td>\n",
              "      <td>560000.000000</td>\n",
              "      <td>118.000000</td>\n",
              "      <td>12.000000</td>\n",
              "      <td>7.000000</td>\n",
              "      <td>2.000000</td>\n",
              "      <td>2.000000</td>\n",
              "      <td>1.000000</td>\n",
              "      <td>2.000000</td>\n",
              "    </tr>\n",
              "  </tbody>\n",
              "</table>\n",
              "</div>"
            ],
            "text/plain": [
              "       row.labels     totalprice  ...    elevator        tras\n",
              "count  218.000000     218.000000  ...  218.000000  218.000000\n",
              "mean   109.500000  280741.522936  ...    0.798165    0.807339\n",
              "std     63.075352   69298.460578  ...    0.402293    0.406787\n",
              "min      1.000000  155000.000000  ...    0.000000    0.000000\n",
              "25%     55.250000  228500.000000  ...    1.000000    1.000000\n",
              "50%    109.500000  269750.000000  ...    1.000000    1.000000\n",
              "75%    163.750000  328625.000000  ...    1.000000    1.000000\n",
              "max    218.000000  560000.000000  ...    1.000000    2.000000\n",
              "\n",
              "[8 rows x 9 columns]"
            ]
          },
          "metadata": {
            "tags": []
          },
          "execution_count": 13
        }
      ]
    },
    {
      "cell_type": "markdown",
      "metadata": {
        "id": "6lSdaypnPsHr",
        "colab_type": "text"
      },
      "source": [
        "* **Highest Price** of Victoria Apartment is 560 billion\n",
        "* **Lowest Price** of Victoria Apartment is 155 billion\n",
        "* **Average Price** of Victoria Apartment is 280 billion\n",
        "\n"
      ]
    },
    {
      "cell_type": "markdown",
      "metadata": {
        "id": "6KCmgatif1sW",
        "colab_type": "text"
      },
      "source": [
        "##Data Visualization"
      ]
    },
    {
      "cell_type": "markdown",
      "metadata": {
        "id": "avKZ1KI5ST04",
        "colab_type": "text"
      },
      "source": [
        "### Total Price and Age"
      ]
    },
    {
      "cell_type": "code",
      "metadata": {
        "id": "dHuNIb7jRAxj",
        "colab_type": "code",
        "colab": {
          "base_uri": "https://localhost:8080/",
          "height": 817
        },
        "outputId": "d428d3ca-c22b-4355-dde9-140ecf5d0aa1"
      },
      "source": [
        "g  = sns.factorplot(x=\"age\",y=\"totalprice\",data=data,kind=\"bar\", size = 10 , \n",
        "palette = \"muted\")\n",
        "g.despine(left=True)\n",
        "g = g.set_ylabels(\"Check 1\")"
      ],
      "execution_count": 24,
      "outputs": [
        {
          "output_type": "stream",
          "text": [
            "/usr/local/lib/python3.6/dist-packages/seaborn/categorical.py:3666: UserWarning: The `factorplot` function has been renamed to `catplot`. The original name will be removed in a future release. Please update your code. Note that the default `kind` in `factorplot` (`'point'`) has changed `'strip'` in `catplot`.\n",
            "  warnings.warn(msg)\n",
            "/usr/local/lib/python3.6/dist-packages/seaborn/categorical.py:3672: UserWarning: The `size` paramter has been renamed to `height`; please update your code.\n",
            "  warnings.warn(msg, UserWarning)\n"
          ],
          "name": "stderr"
        },
        {
          "output_type": "display_data",
          "data": {
            "image/png": "[encoded data removed]",
            "text/plain": [
              "<Figure size 720x720 with 1 Axes>"
            ]
          },
          "metadata": {
            "tags": []
          }
        }
      ]
    },
    {
      "cell_type": "markdown",
      "metadata": {
        "id": "n70_VouaSZlD",
        "colab_type": "text"
      },
      "source": [
        "Based on that visualization we can see that on age = 38 years old is the customer who have the highest price in rent victoria apartment.\n",
        "\n",
        "And the lowest price of customers who rent the victoria apartment is on age = 77 years old."
      ]
    },
    {
      "cell_type": "code",
      "metadata": {
        "id": "ltpvWLmPhWF4",
        "colab_type": "code",
        "outputId": "06fbe863-0c21-4675-8615-4582728f4197",
        "colab": {
          "base_uri": "https://localhost:8080/",
          "height": 283
        }
      },
      "source": [
        "plt.scatter(cdf.totalprice, cdf.age,  color='blue')\n",
        "plt.xlabel(\"totalprice\")\n",
        "plt.ylabel(\"age\")\n",
        "plt.show()"
      ],
      "execution_count": 0,
      "outputs": [
        {
          "output_type": "display_data",
          "data": {
            "image/png": "[encoded data removed]",
            "text/plain": [
              "<Figure size 432x288 with 1 Axes>"
            ]
          },
          "metadata": {
            "tags": []
          }
        }
      ]
    },
    {
      "cell_type": "markdown",
      "metadata": {
        "id": "Rka_DPCdS5mT",
        "colab_type": "text"
      },
      "source": [
        "Based on the scatter plot we can see that most of customer who rent the apartment is on age between 10 till 30 years old because the crowded of point in that scatter plot in that age"
      ]
    },
    {
      "cell_type": "markdown",
      "metadata": {
        "id": "9bY6a91nTNgx",
        "colab_type": "text"
      },
      "source": [
        "#### Conclusion\n",
        "Based on that visuzalization, Tony can targetted the consumer on the age between 10 till 30 and offers the apartment with a highest price on the customer who have an age in 38 years old and the lowest price in 77 years old."
      ]
    },
    {
      "cell_type": "markdown",
      "metadata": {
        "id": "YauD3AvLTy9-",
        "colab_type": "text"
      },
      "source": [
        "### Price and Floor"
      ]
    },
    {
      "cell_type": "code",
      "metadata": {
        "id": "rPS_2ynKX-SD",
        "colab_type": "code",
        "colab": {
          "base_uri": "https://localhost:8080/",
          "height": 269
        },
        "outputId": "87102e96-3dd2-4a49-dabb-c1bd9f4eee7f"
      },
      "source": [
        "import matplotlib\n",
        "import matplotlib.pyplot as plt\n",
        "plt.hist(data['floor'], \n",
        "         facecolor='black', \n",
        "         edgecolor='blue', )\n",
        "plt.show()"
      ],
      "execution_count": 47,
      "outputs": [
        {
          "output_type": "display_data",
          "data": {
            "image/png": "[encoded data removed]",
            "text/plain": [
              "<Figure size 432x288 with 1 Axes>"
            ]
          },
          "metadata": {
            "tags": []
          }
        }
      ]
    },
    {
      "cell_type": "code",
      "metadata": {
        "id": "rLHfpw9uiF9b",
        "colab_type": "code",
        "outputId": "742958d4-d17e-42f8-fde4-8e42fc5cf954",
        "colab": {
          "base_uri": "https://localhost:8080/",
          "height": 283
        }
      },
      "source": [
        "plt.scatter(data.totalprice, data.floor,  color='blue')\n",
        "plt.xlabel(\"totalprice\")\n",
        "plt.ylabel(\"floor\")\n",
        "plt.show()"
      ],
      "execution_count": 49,
      "outputs": [
        {
          "output_type": "display_data",
          "data": {
            "image/png": "[encoded data removed]",
            "text/plain": [
              "<Figure size 432x288 with 1 Axes>"
            ]
          },
          "metadata": {
            "tags": []
          }
        }
      ]
    },
    {
      "cell_type": "markdown",
      "metadata": {
        "id": "iQ4Z51-vZNS-",
        "colab_type": "text"
      },
      "source": [
        "Based on The visualization, most of customer is like to stay in the third floor of victoria apartment. Maybe because third floor is not too high and have the best view than other floor.\n",
        "\n",
        "By this information, Tonny needs to improve other floor. So, the customer can stay in the other customer except third floor."
      ]
    },
    {
      "cell_type": "markdown",
      "metadata": {
        "id": "okuxUOFIi5dC",
        "colab_type": "text"
      },
      "source": [
        "##Variable Selection"
      ]
    },
    {
      "cell_type": "code",
      "metadata": {
        "id": "yxaMFow0Qklq",
        "colab_type": "code",
        "colab": {
          "base_uri": "https://localhost:8080/",
          "height": 599
        },
        "outputId": "fbdde783-84df-464e-8b88-d68350f4a866"
      },
      "source": [
        "import matplotlib.pyplot as plt \n",
        "import seaborn as sns\n",
        "import numpy as np\n",
        "#create correlation with hitmap\n",
        "\n",
        "#create correlation\n",
        "corr = data.corr(method = 'pearson')\n",
        "\n",
        "#convert correlation to numpy array\n",
        "mask = np.array(corr)\n",
        "\n",
        "#to mask the repetitive value for each pair\n",
        "mask[np.tril_indices_from(mask)] = False\n",
        "fig, ax = plt.subplots(figsize = (5,3))\n",
        "fig.set_size_inches(10,10)\n",
        "sns.heatmap(corr, \n",
        "            mask = mask, \n",
        "            vmax = 0.1, \n",
        "            square = True, \n",
        "            annot = True)"
      ],
      "execution_count": 18,
      "outputs": [
        {
          "output_type": "execute_result",
          "data": {
            "text/plain": [
              "<matplotlib.axes._subplots.AxesSubplot at 0x7f5db5688470>"
            ]
          },
          "metadata": {
            "tags": []
          },
          "execution_count": 18
        },
        {
          "output_type": "display_data",
          "data": {
            "image/png": "[encoded data removed]",
            "text/plain": [
              "<Figure size 720x720 with 2 Axes>"
            ]
          },
          "metadata": {
            "tags": []
          }
        }
      ]
    },
    {
      "cell_type": "markdown",
      "metadata": {
        "id": "3RYIRI45Uips",
        "colab_type": "text"
      },
      "source": [
        "Variables totalprice and toilets has the highest correlation. So, the variables that will be choose for the modelling is price and toilets.\n",
        "\n",
        "Because it related. Customer sometimes choose the best toilets for its completement, cleanless and also the design. So the best toilets can make a better experience. By this information, Tony can improve the victoria apartment better than the last condition to make customer satisfy."
      ]
    },
    {
      "cell_type": "code",
      "metadata": {
        "id": "4SyHRJ9KfRDa",
        "colab_type": "code",
        "outputId": "5fe4466d-e8b0-4264-ebfb-675f4f908d44",
        "colab": {
          "base_uri": "https://localhost:8080/",
          "height": 328
        }
      },
      "source": [
        "cdf = data[['totalprice','toilets']]\n",
        "cdf.head(9)"
      ],
      "execution_count": 29,
      "outputs": [
        {
          "output_type": "execute_result",
          "data": {
            "text/html": [
              "<div>\n",
              "<style scoped>\n",
              "    .dataframe tbody tr th:only-of-type {\n",
              "        vertical-align: middle;\n",
              "    }\n",
              "\n",
              "    .dataframe tbody tr th {\n",
              "        vertical-align: top;\n",
              "    }\n",
              "\n",
              "    .dataframe thead th {\n",
              "        text-align: right;\n",
              "    }\n",
              "</style>\n",
              "<table border=\"1\" class=\"dataframe\">\n",
              "  <thead>\n",
              "    <tr style=\"text-align: right;\">\n",
              "      <th></th>\n",
              "      <th>totalprice</th>\n",
              "      <th>toilets</th>\n",
              "    </tr>\n",
              "  </thead>\n",
              "  <tbody>\n",
              "    <tr>\n",
              "      <th>0</th>\n",
              "      <td>228000</td>\n",
              "      <td>1</td>\n",
              "    </tr>\n",
              "    <tr>\n",
              "      <th>1</th>\n",
              "      <td>409000</td>\n",
              "      <td>2</td>\n",
              "    </tr>\n",
              "    <tr>\n",
              "      <th>2</th>\n",
              "      <td>200000</td>\n",
              "      <td>2</td>\n",
              "    </tr>\n",
              "    <tr>\n",
              "      <th>3</th>\n",
              "      <td>180000</td>\n",
              "      <td>1</td>\n",
              "    </tr>\n",
              "    <tr>\n",
              "      <th>4</th>\n",
              "      <td>443600</td>\n",
              "      <td>2</td>\n",
              "    </tr>\n",
              "    <tr>\n",
              "      <th>5</th>\n",
              "      <td>173000</td>\n",
              "      <td>1</td>\n",
              "    </tr>\n",
              "    <tr>\n",
              "      <th>6</th>\n",
              "      <td>245000</td>\n",
              "      <td>1</td>\n",
              "    </tr>\n",
              "    <tr>\n",
              "      <th>7</th>\n",
              "      <td>210000</td>\n",
              "      <td>1</td>\n",
              "    </tr>\n",
              "    <tr>\n",
              "      <th>8</th>\n",
              "      <td>188982</td>\n",
              "      <td>1</td>\n",
              "    </tr>\n",
              "  </tbody>\n",
              "</table>\n",
              "</div>"
            ],
            "text/plain": [
              "   totalprice  toilets\n",
              "0      228000        1\n",
              "1      409000        2\n",
              "2      200000        2\n",
              "3      180000        1\n",
              "4      443600        2\n",
              "5      173000        1\n",
              "6      245000        1\n",
              "7      210000        1\n",
              "8      188982        1"
            ]
          },
          "metadata": {
            "tags": []
          },
          "execution_count": 29
        }
      ]
    },
    {
      "cell_type": "markdown",
      "metadata": {
        "id": "D_P7Is1xkIhw",
        "colab_type": "text"
      },
      "source": [
        "###Creating Train and Test Dataset"
      ]
    },
    {
      "cell_type": "code",
      "metadata": {
        "id": "jfpMB-EuiU0q",
        "colab_type": "code",
        "colab": {}
      },
      "source": [
        "msk = np.random.rand(len(data)) < 0.8\n",
        "train = cdf[msk]\n",
        "test = cdf[~msk]"
      ],
      "execution_count": 0,
      "outputs": []
    },
    {
      "cell_type": "markdown",
      "metadata": {
        "id": "1aZ_-OV7kid7",
        "colab_type": "text"
      },
      "source": [
        "###Train Data Distribution"
      ]
    },
    {
      "cell_type": "code",
      "metadata": {
        "id": "aLdC8__4j_qW",
        "colab_type": "code",
        "outputId": "28ec9b88-3f4b-4f54-d0ec-ab1442739cfa",
        "colab": {
          "base_uri": "https://localhost:8080/",
          "height": 283
        }
      },
      "source": [
        "plt.scatter(train.totalprice, train.toilets,  color='blue')\n",
        "plt.xlabel(\"totalprice\")\n",
        "plt.ylabel(\"toilets\")\n",
        "plt.show()"
      ],
      "execution_count": 32,
      "outputs": [
        {
          "output_type": "display_data",
          "data": {
            "image/png": "[encoded data removed]",
            "text/plain": [
              "<Figure size 432x288 with 1 Axes>"
            ]
          },
          "metadata": {
            "tags": []
          }
        }
      ]
    },
    {
      "cell_type": "markdown",
      "metadata": {
        "id": "fNggwN9DZ7fd",
        "colab_type": "text"
      },
      "source": [
        "By this visualization, toilets type I is on the lowest price and toilets type II is on the middle price.\n",
        "\n",
        "So tonny can predict a positioning to make an improvement of apartment toilets."
      ]
    },
    {
      "cell_type": "markdown",
      "metadata": {
        "id": "uBUOkmARljOA",
        "colab_type": "text"
      },
      "source": [
        "##Modelling"
      ]
    },
    {
      "cell_type": "code",
      "metadata": {
        "id": "0dp7bN6KlcZL",
        "colab_type": "code",
        "outputId": "f8633ddb-d61b-4d02-9325-dbb173c94a1e",
        "colab": {
          "base_uri": "https://localhost:8080/",
          "height": 51
        }
      },
      "source": [
        "from sklearn import linear_model\n",
        "regr = linear_model.LinearRegression()\n",
        "train_x = np.asanyarray(train[['totalprice']])\n",
        "train_y = np.asanyarray(train[['toilets']])\n",
        "regr.fit (train_x, train_y)\n",
        "# The coefficients\n",
        "print ('Coefficients: ', regr.coef_)\n",
        "print ('Intercept: ',regr.intercept_)"
      ],
      "execution_count": 35,
      "outputs": [
        {
          "output_type": "stream",
          "text": [
            "Coefficients:  [[4.92262487e-06]]\n",
            "Intercept:  [0.08117505]\n"
          ],
          "name": "stdout"
        }
      ]
    },
    {
      "cell_type": "code",
      "metadata": {
        "id": "afJ2aJRrlvCN",
        "colab_type": "code",
        "outputId": "8b624ca1-88c9-46cf-ce5e-772d28df2d05",
        "colab": {
          "base_uri": "https://localhost:8080/",
          "height": 300
        }
      },
      "source": [
        "plt.scatter(train.totalprice, train.toilets,  color='blue')\n",
        "plt.plot(train_x, regr.coef_[0][0]*train_x + regr.intercept_[0], '-r')\n",
        "plt.xlabel(\"totalprice\")\n",
        "plt.ylabel(\"toilets\")"
      ],
      "execution_count": 37,
      "outputs": [
        {
          "output_type": "execute_result",
          "data": {
            "text/plain": [
              "Text(0, 0.5, 'toilets')"
            ]
          },
          "metadata": {
            "tags": []
          },
          "execution_count": 37
        },
        {
          "output_type": "display_data",
          "data": {
            "image/png": "[encoded data removed]",
            "text/plain": [
              "<Figure size 432x288 with 1 Axes>"
            ]
          },
          "metadata": {
            "tags": []
          }
        }
      ]
    },
    {
      "cell_type": "markdown",
      "metadata": {
        "id": "qnjDC_17ouCG",
        "colab_type": "text"
      },
      "source": [
        "##Accuracy on Error"
      ]
    },
    {
      "cell_type": "code",
      "metadata": {
        "id": "kTkNDNdhmzE3",
        "colab_type": "code",
        "outputId": "c6c591f5-00e0-4d44-c21b-9d3856d6af48",
        "colab": {
          "base_uri": "https://localhost:8080/",
          "height": 68
        }
      },
      "source": [
        "from sklearn.metrics import r2_score\n",
        "\n",
        "test_x = np.asanyarray(test[['totalprice']])\n",
        "test_y = np.asanyarray(test[['toilets']])\n",
        "test_y_ = regr.predict(test_x)\n",
        "\n",
        "print(\"Mean absolute error: %.2f\" % np.mean(np.absolute(test_y_ - test_y)))\n",
        "print(\"Residual sum of squares (MSE): %.2f\" % np.mean((test_y_ - test_y) ** 2))\n",
        "print(\"R2-score: %.2f\" % r2_score(test_y_ , test_y) )"
      ],
      "execution_count": 39,
      "outputs": [
        {
          "output_type": "stream",
          "text": [
            "Mean absolute error: 0.31\n",
            "Residual sum of squares (MSE): 0.14\n",
            "R2-score: -0.31\n"
          ],
          "name": "stdout"
        }
      ]
    }
  ]
}