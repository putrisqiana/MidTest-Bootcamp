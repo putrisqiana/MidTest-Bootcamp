{
  "nbformat": 4,
  "nbformat_minor": 0,
  "metadata": {
    "colab": {
      "name": "Case1Water.ipynb",
      "provenance": [],
      "toc_visible": true
    },
    "kernelspec": {
      "name": "python3",
      "display_name": "Python 3"
    }
  },
  "cells": [
    {
      "cell_type": "markdown",
      "metadata": {
        "id": "9V418gSM24DZ",
        "colab_type": "text"
      },
      "source": [
        "# Annual Water Usage in Baltimore\n",
        "\n",
        "**Background** : The Dataset provides the annual water usage in Baltimore from 1885 to 1963, or 79 years of data.\n",
        "The values are in the units of liters per capita per day, and there are 79 observations.\n"
      ]
    },
    {
      "cell_type": "markdown",
      "metadata": {
        "id": "gimxOEr8Jq_E",
        "colab_type": "text"
      },
      "source": [
        "###Import Library"
      ]
    },
    {
      "cell_type": "code",
      "metadata": {
        "id": "m8lznT9jBCro",
        "colab_type": "code",
        "colab": {}
      },
      "source": [
        "# scipy\n",
        "import scipy as  sci\n",
        "# numpy\n",
        "import numpy as np\n",
        "# matplotlib\n",
        "import matplotlib as mpl\n",
        "# statsmodels\n",
        "import statsmodels as sml\n",
        "# scikit-learn\n",
        "import sklearn as skl\n",
        "# pandas\n",
        "import pandas as pd\n",
        "from statsmodels.tsa.arima_model import ARIMA\n",
        "from sklearn.model_selection import train_test_split\n",
        "\n",
        "import numpy as np\n",
        "import matplotlib.pyplot as plt\n",
        "import cv2 as cv\n",
        "\n",
        "from matplotlib.pylab import rcParams"
      ],
      "execution_count": 0,
      "outputs": []
    },
    {
      "cell_type": "markdown",
      "metadata": {
        "id": "K7H-_ru9JwOS",
        "colab_type": "text"
      },
      "source": [
        "##Load Dataset\n",
        "\n",
        "Load the dataset (water.csv) as a Pandas Series"
      ]
    },
    {
      "cell_type": "code",
      "metadata": {
        "id": "TMezAosNDv9T",
        "colab_type": "code",
        "outputId": "e9690a43-db1d-4c53-e8e3-02e650134265",
        "colab": {
          "base_uri": "https://localhost:8080/",
          "height": 204
        }
      },
      "source": [
        "df = pd.read_csv('Water (1).csv')\n",
        "df.head()"
      ],
      "execution_count": 2,
      "outputs": [
        {
          "output_type": "execute_result",
          "data": {
            "text/html": [
              "<div>\n",
              "<style scoped>\n",
              "    .dataframe tbody tr th:only-of-type {\n",
              "        vertical-align: middle;\n",
              "    }\n",
              "\n",
              "    .dataframe tbody tr th {\n",
              "        vertical-align: top;\n",
              "    }\n",
              "\n",
              "    .dataframe thead th {\n",
              "        text-align: right;\n",
              "    }\n",
              "</style>\n",
              "<table border=\"1\" class=\"dataframe\">\n",
              "  <thead>\n",
              "    <tr style=\"text-align: right;\">\n",
              "      <th></th>\n",
              "      <th>Year</th>\n",
              "      <th>Volume</th>\n",
              "    </tr>\n",
              "  </thead>\n",
              "  <tbody>\n",
              "    <tr>\n",
              "      <th>0</th>\n",
              "      <td>1885</td>\n",
              "      <td>356</td>\n",
              "    </tr>\n",
              "    <tr>\n",
              "      <th>1</th>\n",
              "      <td>1886</td>\n",
              "      <td>386</td>\n",
              "    </tr>\n",
              "    <tr>\n",
              "      <th>2</th>\n",
              "      <td>1887</td>\n",
              "      <td>397</td>\n",
              "    </tr>\n",
              "    <tr>\n",
              "      <th>3</th>\n",
              "      <td>1888</td>\n",
              "      <td>397</td>\n",
              "    </tr>\n",
              "    <tr>\n",
              "      <th>4</th>\n",
              "      <td>1889</td>\n",
              "      <td>413</td>\n",
              "    </tr>\n",
              "  </tbody>\n",
              "</table>\n",
              "</div>"
            ],
            "text/plain": [
              "   Year  Volume\n",
              "0  1885     356\n",
              "1  1886     386\n",
              "2  1887     397\n",
              "3  1888     397\n",
              "4  1889     413"
            ]
          },
          "metadata": {
            "tags": []
          },
          "execution_count": 2
        }
      ]
    },
    {
      "cell_type": "markdown",
      "metadata": {
        "id": "dNAWZBh13cHm",
        "colab_type": "text"
      },
      "source": [
        "Split Dataset into two :\n",
        "* Model development with the named **dataset.csv** \n",
        "* Validation with the named **validation.csv**"
      ]
    },
    {
      "cell_type": "code",
      "metadata": {
        "id": "NhXbhqgE3gb9",
        "colab_type": "code",
        "colab": {
          "base_uri": "https://localhost:8080/",
          "height": 34
        },
        "outputId": "6cf1973b-56de-4931-cb0a-dc46f0c1734a"
      },
      "source": [
        "len(df)"
      ],
      "execution_count": 3,
      "outputs": [
        {
          "output_type": "execute_result",
          "data": {
            "text/plain": [
              "79"
            ]
          },
          "metadata": {
            "tags": []
          },
          "execution_count": 3
        }
      ]
    },
    {
      "cell_type": "markdown",
      "metadata": {
        "id": "nCjIC6dE3jcd",
        "colab_type": "text"
      },
      "source": [
        "Total Dataset is 79, so we want to divide it use Pareto Chart with 70:30 portion\n",
        "* 70% of Dataset for dataset.csv\n",
        "* 30% of Dataset for validation.csv"
      ]
    },
    {
      "cell_type": "code",
      "metadata": {
        "id": "CcuqYZEhBMvH",
        "colab_type": "code",
        "colab": {
          "base_uri": "https://localhost:8080/",
          "height": 34
        },
        "outputId": "b5a946f1-41ce-42c2-a1d8-03bf690cbaf7"
      },
      "source": [
        "split_point = len(df) - 24\n",
        "dataset, validation = df[0:split_point], df[split_point:]\n",
        "print('Dataset %d, Validation %d' % (len(dataset), len(validation)))\n",
        "dataset.to_csv('dataset.csv', index=False)\n",
        "validation.to_csv('validation.csv', index=False)"
      ],
      "execution_count": 4,
      "outputs": [
        {
          "output_type": "stream",
          "text": [
            "Dataset 55, Validation 24\n"
          ],
          "name": "stdout"
        }
      ]
    },
    {
      "cell_type": "markdown",
      "metadata": {
        "id": "saGX3eVw3xIb",
        "colab_type": "text"
      },
      "source": [
        "##Summary of Dataset"
      ]
    },
    {
      "cell_type": "markdown",
      "metadata": {
        "id": "rH8YP5ZDJ3e6",
        "colab_type": "text"
      },
      "source": [
        "### Dataset Content"
      ]
    },
    {
      "cell_type": "code",
      "metadata": {
        "id": "lQ51k2OrBdNL",
        "colab_type": "code",
        "outputId": "d87e1e04-f4c1-4e07-f56f-2d5a68cbb56b",
        "colab": {
          "base_uri": "https://localhost:8080/",
          "height": 204
        }
      },
      "source": [
        "df.head()"
      ],
      "execution_count": 5,
      "outputs": [
        {
          "output_type": "execute_result",
          "data": {
            "text/html": [
              "<div>\n",
              "<style scoped>\n",
              "    .dataframe tbody tr th:only-of-type {\n",
              "        vertical-align: middle;\n",
              "    }\n",
              "\n",
              "    .dataframe tbody tr th {\n",
              "        vertical-align: top;\n",
              "    }\n",
              "\n",
              "    .dataframe thead th {\n",
              "        text-align: right;\n",
              "    }\n",
              "</style>\n",
              "<table border=\"1\" class=\"dataframe\">\n",
              "  <thead>\n",
              "    <tr style=\"text-align: right;\">\n",
              "      <th></th>\n",
              "      <th>Year</th>\n",
              "      <th>Volume</th>\n",
              "    </tr>\n",
              "  </thead>\n",
              "  <tbody>\n",
              "    <tr>\n",
              "      <th>0</th>\n",
              "      <td>1885</td>\n",
              "      <td>356</td>\n",
              "    </tr>\n",
              "    <tr>\n",
              "      <th>1</th>\n",
              "      <td>1886</td>\n",
              "      <td>386</td>\n",
              "    </tr>\n",
              "    <tr>\n",
              "      <th>2</th>\n",
              "      <td>1887</td>\n",
              "      <td>397</td>\n",
              "    </tr>\n",
              "    <tr>\n",
              "      <th>3</th>\n",
              "      <td>1888</td>\n",
              "      <td>397</td>\n",
              "    </tr>\n",
              "    <tr>\n",
              "      <th>4</th>\n",
              "      <td>1889</td>\n",
              "      <td>413</td>\n",
              "    </tr>\n",
              "  </tbody>\n",
              "</table>\n",
              "</div>"
            ],
            "text/plain": [
              "   Year  Volume\n",
              "0  1885     356\n",
              "1  1886     386\n",
              "2  1887     397\n",
              "3  1888     397\n",
              "4  1889     413"
            ]
          },
          "metadata": {
            "tags": []
          },
          "execution_count": 5
        }
      ]
    },
    {
      "cell_type": "code",
      "metadata": {
        "id": "DRcWmPSW38Am",
        "colab_type": "code",
        "colab": {
          "base_uri": "https://localhost:8080/",
          "height": 34
        },
        "outputId": "171a690a-bd96-46c3-a67e-923a29e7251f"
      },
      "source": [
        "df.shape"
      ],
      "execution_count": 7,
      "outputs": [
        {
          "output_type": "execute_result",
          "data": {
            "text/plain": [
              "(79, 2)"
            ]
          },
          "metadata": {
            "tags": []
          },
          "execution_count": 7
        }
      ]
    },
    {
      "cell_type": "markdown",
      "metadata": {
        "id": "24_Gx6yB4BLC",
        "colab_type": "text"
      },
      "source": [
        "Dataset is contain of 79 rows of data with 2 features \n",
        "* **Year** and \n",
        "* **Water**  is values in the units of liters per capita per day os Water Usage in Baltimore"
      ]
    },
    {
      "cell_type": "markdown",
      "metadata": {
        "id": "UZSbbnks4FfG",
        "colab_type": "text"
      },
      "source": [
        "## Dataset Statistic"
      ]
    },
    {
      "cell_type": "code",
      "metadata": {
        "id": "ltLWZ5x4ELld",
        "colab_type": "code",
        "outputId": "169e7654-ee02-431e-ae25-9b6abbe741b3",
        "colab": {
          "base_uri": "https://localhost:8080/",
          "height": 297
        }
      },
      "source": [
        "df.describe()"
      ],
      "execution_count": 0,
      "outputs": [
        {
          "output_type": "execute_result",
          "data": {
            "text/html": [
              "<div>\n",
              "<style scoped>\n",
              "    .dataframe tbody tr th:only-of-type {\n",
              "        vertical-align: middle;\n",
              "    }\n",
              "\n",
              "    .dataframe tbody tr th {\n",
              "        vertical-align: top;\n",
              "    }\n",
              "\n",
              "    .dataframe thead th {\n",
              "        text-align: right;\n",
              "    }\n",
              "</style>\n",
              "<table border=\"1\" class=\"dataframe\">\n",
              "  <thead>\n",
              "    <tr style=\"text-align: right;\">\n",
              "      <th></th>\n",
              "      <th>Year</th>\n",
              "      <th>Water</th>\n",
              "    </tr>\n",
              "  </thead>\n",
              "  <tbody>\n",
              "    <tr>\n",
              "      <th>count</th>\n",
              "      <td>79.000000</td>\n",
              "      <td>79.000000</td>\n",
              "    </tr>\n",
              "    <tr>\n",
              "      <th>mean</th>\n",
              "      <td>1924.000000</td>\n",
              "      <td>512.025316</td>\n",
              "    </tr>\n",
              "    <tr>\n",
              "      <th>std</th>\n",
              "      <td>22.949219</td>\n",
              "      <td>75.685072</td>\n",
              "    </tr>\n",
              "    <tr>\n",
              "      <th>min</th>\n",
              "      <td>1885.000000</td>\n",
              "      <td>344.000000</td>\n",
              "    </tr>\n",
              "    <tr>\n",
              "      <th>25%</th>\n",
              "      <td>1904.500000</td>\n",
              "      <td>462.000000</td>\n",
              "    </tr>\n",
              "    <tr>\n",
              "      <th>50%</th>\n",
              "      <td>1924.000000</td>\n",
              "      <td>503.000000</td>\n",
              "    </tr>\n",
              "    <tr>\n",
              "      <th>75%</th>\n",
              "      <td>1943.500000</td>\n",
              "      <td>581.000000</td>\n",
              "    </tr>\n",
              "    <tr>\n",
              "      <th>max</th>\n",
              "      <td>1963.000000</td>\n",
              "      <td>662.000000</td>\n",
              "    </tr>\n",
              "  </tbody>\n",
              "</table>\n",
              "</div>"
            ],
            "text/plain": [
              "              Year       Water\n",
              "count    79.000000   79.000000\n",
              "mean   1924.000000  512.025316\n",
              "std      22.949219   75.685072\n",
              "min    1885.000000  344.000000\n",
              "25%    1904.500000  462.000000\n",
              "50%    1924.000000  503.000000\n",
              "75%    1943.500000  581.000000\n",
              "max    1963.000000  662.000000"
            ]
          },
          "metadata": {
            "tags": []
          },
          "execution_count": 13
        }
      ]
    },
    {
      "cell_type": "markdown",
      "metadata": {
        "id": "T__eYuhL4IWs",
        "colab_type": "text"
      },
      "source": [
        "- **Mean of the Year is 1924**, because the dataset is contain from 1885 (min) till 1963(max).\n",
        "\n",
        "- Meanwhile the **mean of water usage is 512** units of liters per capita per day.\n",
        "\n",
        "- The **minimum of water usage is 462** units of liters per capita per day.\n",
        "\n",
        "- The **maximum of water usage is 662** units of liters per capita per day."
      ]
    },
    {
      "cell_type": "markdown",
      "metadata": {
        "id": "oLLLtA9N4L4m",
        "colab_type": "text"
      },
      "source": [
        "## Line Plot"
      ]
    },
    {
      "cell_type": "code",
      "metadata": {
        "id": "HdQBO-9d4Qk-",
        "colab_type": "code",
        "colab": {
          "base_uri": "https://localhost:8080/",
          "height": 352
        },
        "outputId": "48ea279f-6fa6-4b76-8f83-f1e455be2efe"
      },
      "source": [
        "fig = plt.figure(figsize=(10,4))\n",
        "ax1 = fig.add_axes([0, 0, 1, 1])\n",
        "\n",
        "ax1.set_title('Annual Water Usage in Baltimore')\n",
        "\n",
        "ax1.plot(df['Year'],\n",
        "         df['Volume'],\n",
        "         color='green')\n",
        "#plt.xticks(df['Year'],rotation=90,fontsize=7)\n",
        "\n",
        "plt.show()"
      ],
      "execution_count": 8,
      "outputs": [
        {
          "output_type": "display_data",
          "data": {
            "image/png": "[encoded data removed]",
            "text/plain": [
              "<Figure size 720x288 with 1 Axes>"
            ]
          },
          "metadata": {
            "tags": []
          }
        }
      ]
    },
    {
      "cell_type": "code",
      "metadata": {
        "id": "3tQrXb58D-ac",
        "colab_type": "code",
        "outputId": "1d58e8e7-1bdf-4edf-f64f-114433b07546",
        "colab": {
          "base_uri": "https://localhost:8080/",
          "height": 34
        }
      },
      "source": [
        "type(df['Year'])"
      ],
      "execution_count": 0,
      "outputs": [
        {
          "output_type": "execute_result",
          "data": {
            "text/plain": [
              "pandas.core.series.Series"
            ]
          },
          "metadata": {
            "tags": []
          },
          "execution_count": 15
        }
      ]
    },
    {
      "cell_type": "code",
      "metadata": {
        "id": "QSA14bK_EhJ0",
        "colab_type": "code",
        "colab": {}
      },
      "source": [
        "X_train, X_val, y_train, y_val = train_test_split(df['Year'], df['Water'], test_size=0.2, random_state=1)"
      ],
      "execution_count": 0,
      "outputs": []
    },
    {
      "cell_type": "markdown",
      "metadata": {
        "id": "A3RNuaKAKkBn",
        "colab_type": "text"
      },
      "source": [
        "##Model Evaluation\n",
        "\n",
        "Model evaluation will only be performed on the data in dataset.csv prepared in the previous section."
      ]
    },
    {
      "cell_type": "markdown",
      "metadata": {
        "id": "djwePgW0KnUr",
        "colab_type": "text"
      },
      "source": [
        "###Performance Measure\n",
        "\n",
        "We will evaluate the performance of predictions using the root mean squared error (RMSE). This will give more weight to predictions that are grossly wrong and will have the same units as the original data.\n",
        "\n",
        "Any transforms to the data must be reversed before the RMSE is calculated and reported to make the performance between different methods directly comparable.\n",
        "\n",
        "We can calculate the RMSE using the helper function from the scikit-learn library mean_squared_error() that calculates the mean squared error between a list of expected values (the test set) and the list of predictions. We can then take the square root of this value to give us a RMSE score."
      ]
    },
    {
      "cell_type": "code",
      "metadata": {
        "id": "3K692mevFFCn",
        "colab_type": "code",
        "outputId": "f87bdaa6-3311-4f23-8cef-488e3746f99a",
        "colab": {
          "base_uri": "https://localhost:8080/",
          "height": 88
        }
      },
      "source": [
        "from sklearn.metrics import mean_squared_error\n",
        "from math import sqrt\n",
        "\n",
        "#dataset = Series.from_csv('dataset.csv')\n",
        "#X = dataset.values.astype('float32')\n",
        "#history = [x for x in X]\n",
        "validation = Series.from_csv('validation.csv')\n",
        "y_test = validation.values.astype('float32')\n",
        "test = y_test\n",
        "\n",
        "X = series.values\n",
        "X = X.astype('float32')\n",
        "train_size = int(len(X) * 0.50)\n",
        "train, test = X[0:train_size], X[train_size:]\n",
        "history = [x for x in train]\n",
        "predictions = list()\n",
        "bias = 1.081624\n",
        "for i in range(len(test)):\n",
        "\t# predict\n",
        "\tmodel = ARIMA(history, order=(2,1,0))\n",
        "\tmodel_fit = model.fit(trend='nc', disp=0)\n",
        "\tyhat = bias + float(model_fit.forecast()[0])\n",
        "\tpredictions.append(yhat)\n",
        "\n",
        "#yhat = float(model_fit.forecast()[0])\n",
        "#predictions = predictions.append(yhat)\n",
        "mse = mean_squared_error(test, predictions)\n",
        "rmse = sqrt(mse)\n",
        "print('RMSE: %.3f' % rmse)"
      ],
      "execution_count": 0,
      "outputs": [
        {
          "output_type": "stream",
          "text": [
            "/usr/local/lib/python3.6/dist-packages/pandas/core/series.py:4141: FutureWarning: from_csv is deprecated. Please use read_csv(...) instead. Note that some of the default arguments are different, so please refer to the documentation for from_csv when changing your function calls\n",
            "  infer_datetime_format=infer_datetime_format)\n"
          ],
          "name": "stderr"
        },
        {
          "output_type": "stream",
          "text": [
            "RMSE: 84.569\n"
          ],
          "name": "stdout"
        }
      ]
    },
    {
      "cell_type": "code",
      "metadata": {
        "id": "sP7BXHIfNGiI",
        "colab_type": "code",
        "outputId": "d8ee4487-8ac1-4555-9b71-e7161be2fdb1",
        "colab": {
          "base_uri": "https://localhost:8080/",
          "height": 612
        }
      },
      "source": [
        "# prepare data\n",
        "X = series.values\n",
        "X = X.astype('float32')\n",
        "train_size = int(len(X) * 0.50)\n",
        "train, test = X[0:train_size], X[train_size:]\n",
        "\n",
        "# walk-forward validation\n",
        "history = [x for x in train]\n",
        "predictions = list()\n",
        "for i in range(len(test)):\n",
        "\t# predict\n",
        "\tmodel = ARIMA(history, order=(2,1,0))\n",
        "\tmodel_fit = model.fit(trend='nc', disp=0)\n",
        "\tyhat = bias + float(model_fit.forecast()[0])\n",
        "\tpredictions.append(yhat)\n",
        "\t# observation\n",
        "\tobs = test[i]\n",
        "\thistory.append(obs)\n",
        "\tprint('>Predicted=%.3f, Expected=%3.f' % (yhat, obs))"
      ],
      "execution_count": 0,
      "outputs": [
        {
          "output_type": "stream",
          "text": [
            ">Predicted=502.715, Expected=503\n",
            ">Predicted=505.894, Expected=503\n",
            ">Predicted=504.082, Expected=515\n",
            ">Predicted=516.336, Expected=522\n",
            ">Predicted=522.296, Expected=492\n",
            ">Predicted=491.911, Expected=503\n",
            ">Predicted=506.711, Expected=503\n",
            ">Predicted=503.185, Expected=450\n",
            ">Predicted=450.362, Expected=432\n",
            ">Predicted=437.369, Expected=432\n",
            ">Predicted=434.646, Expected=458\n",
            ">Predicted=459.810, Expected=462\n",
            ">Predicted=460.773, Expected=503\n",
            ">Predicted=505.057, Expected=488\n",
            ">Predicted=485.536, Expected=466\n",
            ">Predicted=467.835, Expected=492\n",
            ">Predicted=495.632, Expected=503\n",
            ">Predicted=501.814, Expected=515\n",
            ">Predicted=515.361, Expected=500\n",
            ">Predicted=499.634, Expected=522\n",
            ">Predicted=524.797, Expected=575\n",
            ">Predicted=575.576, Expected=583\n",
            ">Predicted=579.191, Expected=587\n",
            ">Predicted=587.500, Expected=628\n",
            ">Predicted=630.397, Expected=640\n",
            ">Predicted=638.047, Expected=609\n",
            ">Predicted=607.541, Expected=606\n",
            ">Predicted=610.112, Expected=632\n",
            ">Predicted=634.511, Expected=617\n",
            ">Predicted=614.670, Expected=613\n",
            ">Predicted=615.587, Expected=598\n",
            ">Predicted=598.945, Expected=575\n",
            ">Predicted=576.711, Expected=564\n",
            ">Predicted=566.984, Expected=549\n",
            ">Predicted=550.469, Expected=538\n"
          ],
          "name": "stdout"
        }
      ]
    },
    {
      "cell_type": "markdown",
      "metadata": {
        "id": "kHIQDycST89d",
        "colab_type": "text"
      },
      "source": [
        "##Persistence\n",
        "The first step before getting bogged down in data analysis and modeling is to establish a baseline of performance.\n",
        "\n",
        "This will provide both a template for evaluating models using the proposed test harness and a performance measure by which all more elaborate predictive models can be compared.\n",
        "\n",
        "The baseline prediction for time series forecasting is called the naive forecast, or persistence.\n",
        "\n",
        "This is where the observation from the previous time step is used as the prediction for the observation at the next time step.\n",
        "\n",
        "We can plug this directly into the test harness defined in the previous section."
      ]
    },
    {
      "cell_type": "code",
      "metadata": {
        "id": "EzUzDi6eTxYa",
        "colab_type": "code",
        "outputId": "db48cdd2-2ea2-4e97-b1fb-16c9a5efd885",
        "colab": {
          "base_uri": "https://localhost:8080/",
          "height": 683
        }
      },
      "source": [
        "from pandas import Series\n",
        "from sklearn.metrics import mean_squared_error\n",
        "from math import sqrt\n",
        "# load data\n",
        "series = Series.from_csv('dataset.csv')\n",
        "# prepare data\n",
        "X = series.values\n",
        "X = X.astype('float32')\n",
        "train_size = int(len(X) * 0.50)\n",
        "train, test = X[0:train_size], X[train_size:]\n",
        "# walk-forward validation\n",
        "history = [x for x in train]\n",
        "predictions = list()\n",
        "for i in range(len(test)):\n",
        "\t# predict\n",
        "\tyhat = history[-1]\n",
        "\tpredictions.append(yhat)\n",
        "\t# observation\n",
        "\tobs = test[i]\n",
        "\thistory.append(obs)\n",
        "\tprint('>Predicted=%.3f, Expected=%3.f' % (yhat, obs))\n",
        "# report performance\n",
        "mse = mean_squared_error(test, predictions)\n",
        "rmse = sqrt(mse)\n",
        "print('RMSE: %.3f' % rmse)"
      ],
      "execution_count": 0,
      "outputs": [
        {
          "output_type": "stream",
          "text": [
            ">Predicted=503.000, Expected=503\n",
            ">Predicted=503.000, Expected=503\n",
            ">Predicted=503.000, Expected=515\n",
            ">Predicted=515.000, Expected=522\n",
            ">Predicted=522.000, Expected=492\n",
            ">Predicted=492.000, Expected=503\n",
            ">Predicted=503.000, Expected=503\n",
            ">Predicted=503.000, Expected=450\n",
            ">Predicted=450.000, Expected=432\n",
            ">Predicted=432.000, Expected=432\n",
            ">Predicted=432.000, Expected=458\n",
            ">Predicted=458.000, Expected=462\n",
            ">Predicted=462.000, Expected=503\n",
            ">Predicted=503.000, Expected=488\n",
            ">Predicted=488.000, Expected=466\n",
            ">Predicted=466.000, Expected=492\n",
            ">Predicted=492.000, Expected=503\n",
            ">Predicted=503.000, Expected=515\n",
            ">Predicted=515.000, Expected=500\n",
            ">Predicted=500.000, Expected=522\n",
            ">Predicted=522.000, Expected=575\n",
            ">Predicted=575.000, Expected=583\n",
            ">Predicted=583.000, Expected=587\n",
            ">Predicted=587.000, Expected=628\n",
            ">Predicted=628.000, Expected=640\n",
            ">Predicted=640.000, Expected=609\n",
            ">Predicted=609.000, Expected=606\n",
            ">Predicted=606.000, Expected=632\n",
            ">Predicted=632.000, Expected=617\n",
            ">Predicted=617.000, Expected=613\n",
            ">Predicted=613.000, Expected=598\n",
            ">Predicted=598.000, Expected=575\n",
            ">Predicted=575.000, Expected=564\n",
            ">Predicted=564.000, Expected=549\n",
            ">Predicted=549.000, Expected=538\n",
            "RMSE: 21.975\n"
          ],
          "name": "stdout"
        },
        {
          "output_type": "stream",
          "text": [
            "/usr/local/lib/python3.6/dist-packages/pandas/core/series.py:4141: FutureWarning: from_csv is deprecated. Please use read_csv(...) instead. Note that some of the default arguments are different, so please refer to the documentation for from_csv when changing your function calls\n",
            "  infer_datetime_format=infer_datetime_format)\n"
          ],
          "name": "stderr"
        }
      ]
    },
    {
      "cell_type": "markdown",
      "metadata": {
        "id": "gVMgpeOOWle9",
        "colab_type": "text"
      },
      "source": [
        "#ARIMA MODELS\n",
        "\n",
        "In this model, we will develop Autoregressive Integrated Moving Average or ARIMA models to solve this Time Series Problem on Water Usage of Annual Water Usage in Baltimore.\n",
        "<br>\n",
        "We will approach modeling by both manual and automatic configuration of the ARIMA model. This will be followed by a third step of investigating the residual errors of the chosen model.\n",
        "\n",
        "As such, this section is broken down into 3 steps:\n",
        "\n",
        "1. Manually Configure the ARIMA.\n",
        "2. Automatically Configure the ARIMA.\n",
        "3. Review Residual Errors.\n",
        "\n"
      ]
    },
    {
      "cell_type": "markdown",
      "metadata": {
        "id": "S0AMG89zWs9L",
        "colab_type": "text"
      },
      "source": [
        "##Manually Configured ARIMA\n",
        "\n",
        "The ARIMA(p,d,q) model requires three parameters and is traditionally configured manually.\n",
        "\n",
        "Analysis of the time series data assumes that we are working with a stationary time series.\n",
        "\n",
        "The time series is likely non-stationary. We can make it stationary by first differencing the series and using a statistical test to confirm that the result is stationary."
      ]
    },
    {
      "cell_type": "code",
      "metadata": {
        "id": "YV9UPMWaWeJx",
        "colab_type": "code",
        "outputId": "0abc3184-48f2-4206-a3c9-d74c739eb4b3",
        "colab": {
          "base_uri": "https://localhost:8080/",
          "height": 442
        }
      },
      "source": [
        "from pandas import Series\n",
        "from statsmodels.tsa.stattools import adfuller\n",
        "from matplotlib import pyplot\n",
        " \n",
        "# create a differe\n",
        "def difference(dataset):\n",
        "\tdiff = list()\n",
        "\tfor i in range(1, len(dataset)):\n",
        "\t\tvalue = dataset[i] - dataset[i - 1]\n",
        "\t\tdiff.append(value)\n",
        "\treturn Series(diff)\n",
        " \n",
        "series = Series.from_csv('dataset.csv')\n",
        "X = series.values\n",
        "X = X.astype('float32')\n",
        "# difference data\n",
        "stationary = difference(X)\n",
        "stationary.index = series.index[1:]\n",
        "# check if stationary\n",
        "result = adfuller(stationary)\n",
        "print('ADF Statistic: %f' % result[0])\n",
        "print('p-value: %f' % result[1])\n",
        "print('Critical Values:')\n",
        "for key, value in result[4].items():\n",
        "\tprint('\\t%s: %.3f' % (key, value))\n",
        "# plot differenced data\n",
        "stationary.plot()\n",
        "pyplot.show()\n",
        "# save\n",
        "stationary.to_csv('stationary.csv')"
      ],
      "execution_count": 0,
      "outputs": [
        {
          "output_type": "stream",
          "text": [
            "/usr/local/lib/python3.6/dist-packages/pandas/core/series.py:4141: FutureWarning: from_csv is deprecated. Please use read_csv(...) instead. Note that some of the default arguments are different, so please refer to the documentation for from_csv when changing your function calls\n",
            "  infer_datetime_format=infer_datetime_format)\n"
          ],
          "name": "stderr"
        },
        {
          "output_type": "stream",
          "text": [
            "ADF Statistic: -6.126719\n",
            "p-value: 0.000000\n",
            "Critical Values:\n",
            "\t1%: -3.534\n",
            "\t5%: -2.906\n",
            "\t10%: -2.591\n"
          ],
          "name": "stdout"
        },
        {
          "output_type": "display_data",
          "data": {
            "image/png": "[encoded data removed]",
            "text/plain": [
              "<Figure size 432x288 with 1 Axes>"
            ]
          },
          "metadata": {
            "tags": []
          }
        },
        {
          "output_type": "stream",
          "text": [
            "/usr/local/lib/python3.6/dist-packages/ipykernel_launcher.py:30: FutureWarning: The signature of `Series.to_csv` was aligned to that of `DataFrame.to_csv`, and argument 'header' will change its default value from False to True: please pass an explicit value to suppress this warning.\n"
          ],
          "name": "stderr"
        }
      ]
    },
    {
      "cell_type": "markdown",
      "metadata": {
        "id": "8dN8N6S2x4LF",
        "colab_type": "text"
      },
      "source": [
        "Running the example outputs the result of a statistical significance test of whether the differenced series is stationary. Specifically, the augmented Dickey-Fuller test.\n",
        "\n",
        "The results show that the test statistic value -6.126719 is smaller than the critical value at 1% of -3.534. This suggests that we can reject the null hypothesis with a significance level of less than 1% (i.e. a low probability that the result is a statistical fluke).\n",
        "\n",
        "Rejecting the null hypothesis means that the process has no unit root, and in turn that the time series is stationary or does not have time-dependent structure.\n",
        "\n",
        "This suggests that at least one level of differencing is required. The d parameter in our ARIMA model should at least be a value of 1."
      ]
    },
    {
      "cell_type": "markdown",
      "metadata": {
        "id": "N12yg_1azXXt",
        "colab_type": "text"
      },
      "source": [
        "#### ACF and PACF"
      ]
    },
    {
      "cell_type": "markdown",
      "metadata": {
        "id": "jAw-L8bjyy9j",
        "colab_type": "text"
      },
      "source": [
        "The next first step is to select the lag values for the Autoregression (AR) and Moving Average (MA) parameters, p and q respectively.\n",
        "\n",
        "We can do this by reviewing Autocorrelation Function (ACF) and Partial Autocorrelation Function (PACF) plots.\n",
        "\n",
        "The example below creates ACF and PACF plots for the series."
      ]
    },
    {
      "cell_type": "code",
      "metadata": {
        "id": "VpNiUrxuXIm7",
        "colab_type": "code",
        "outputId": "ae1b2ee7-4da0-47d3-d36b-0e52b2fd7279",
        "colab": {
          "base_uri": "https://localhost:8080/",
          "height": 335
        }
      },
      "source": [
        "from pandas import Series\n",
        "from statsmodels.graphics.tsaplots import plot_acf\n",
        "from statsmodels.graphics.tsaplots import plot_pacf\n",
        "from matplotlib import pyplot\n",
        "series = Series.from_csv('dataset.csv')\n",
        "pyplot.figure()\n",
        "pyplot.subplot(211)\n",
        "plot_acf(series, ax=pyplot.gca())\n",
        "pyplot.subplot(212)\n",
        "plot_pacf(series, ax=pyplot.gca())\n",
        "pyplot.show()"
      ],
      "execution_count": 0,
      "outputs": [
        {
          "output_type": "stream",
          "text": [
            "/usr/local/lib/python3.6/dist-packages/pandas/core/series.py:4141: FutureWarning: from_csv is deprecated. Please use read_csv(...) instead. Note that some of the default arguments are different, so please refer to the documentation for from_csv when changing your function calls\n",
            "  infer_datetime_format=infer_datetime_format)\n"
          ],
          "name": "stderr"
        },
        {
          "output_type": "display_data",
          "data": {
            "image/png": "[encoded data removed]",
            "text/plain": [
              "<Figure size 432x288 with 2 Axes>"
            ]
          },
          "metadata": {
            "tags": []
          }
        }
      ]
    },
    {
      "cell_type": "markdown",
      "metadata": {
        "id": "luhhyKxUzm_I",
        "colab_type": "text"
      },
      "source": [
        "Below are some observations from the plots.\n",
        "\n",
        "- The ACF shows no significant lags.\n",
        "- The PACF also shows no significant lags.\n",
        "\n",
        "A good starting point for the p and q values is also 0.\n"
      ]
    },
    {
      "cell_type": "code",
      "metadata": {
        "id": "uR6fAjboXSIp",
        "colab_type": "code",
        "outputId": "c5f0074a-f4ba-4732-b0aa-0265d6ef0c91",
        "colab": {
          "base_uri": "https://localhost:8080/",
          "height": 683
        }
      },
      "source": [
        "from pandas import Series\n",
        "from sklearn.metrics import mean_squared_error\n",
        "from statsmodels.tsa.arima_model import ARIMA\n",
        "from math import sqrt\n",
        "# load data\n",
        "series = Series.from_csv('dataset.csv')\n",
        "# prepare data\n",
        "X = series.values\n",
        "X = X.astype('float32')\n",
        "train_size = int(len(X) * 0.50)\n",
        "train, test = X[0:train_size], X[train_size:]\n",
        "# walk-forward validation\n",
        "history = [x for x in train]\n",
        "predictions = list()\n",
        "for i in range(len(test)):\n",
        "\t# predict\n",
        "\tmodel = ARIMA(history, order=(0,1,0))\n",
        "\tmodel_fit = model.fit(disp=0)\n",
        "\tyhat = model_fit.forecast()[0]\n",
        "\tpredictions.append(yhat)\n",
        "\t# observation\n",
        "\tobs = test[i]\n",
        "\thistory.append(obs)\n",
        "\tprint('>Predicted=%.3f, Expected=%3.f' % (yhat, obs))\n",
        "# report performance\n",
        "mse = mean_squared_error(test, predictions)\n",
        "rmse = sqrt(mse)\n",
        "print('RMSE: %.3f' % rmse)"
      ],
      "execution_count": 0,
      "outputs": [
        {
          "output_type": "stream",
          "text": [
            ">Predicted=507.455, Expected=503\n",
            ">Predicted=507.324, Expected=503\n",
            ">Predicted=507.200, Expected=515\n",
            ">Predicted=519.417, Expected=522\n",
            ">Predicted=526.486, Expected=492\n",
            ">Predicted=495.579, Expected=503\n",
            ">Predicted=506.769, Expected=503\n",
            ">Predicted=506.675, Expected=450\n",
            ">Predicted=452.293, Expected=432\n",
            ">Predicted=433.810, Expected=432\n",
            ">Predicted=433.767, Expected=458\n",
            ">Predicted=460.318, Expected=462\n",
            ">Predicted=464.356, Expected=503\n",
            ">Predicted=506.196, Expected=488\n",
            ">Predicted=490.809, Expected=466\n",
            ">Predicted=468.292, Expected=492\n",
            ">Predicted=494.776, Expected=503\n",
            ">Predicted=505.940, Expected=515\n",
            ">Predicted=518.118, Expected=500\n",
            ">Predicted=502.769, Expected=522\n",
            ">Predicted=525.132, Expected=575\n",
            ">Predicted=579.056, Expected=583\n",
            ">Predicted=587.127, Expected=587\n",
            ">Predicted=591.125, Expected=628\n",
            ">Predicted=632.772, Expected=640\n",
            ">Predicted=644.897, Expected=609\n",
            ">Predicted=613.288, Expected=606\n",
            ">Predicted=610.167, Expected=632\n",
            ">Predicted=636.525, Expected=617\n",
            ">Predicted=621.210, Expected=613\n",
            ">Predicted=617.079, Expected=598\n",
            ">Predicted=601.781, Expected=575\n",
            ">Predicted=578.369, Expected=564\n",
            ">Predicted=567.152, Expected=549\n",
            ">Predicted=551.881, Expected=538\n",
            "RMSE: 22.311\n"
          ],
          "name": "stdout"
        },
        {
          "output_type": "stream",
          "text": [
            "/usr/local/lib/python3.6/dist-packages/pandas/core/series.py:4141: FutureWarning: from_csv is deprecated. Please use read_csv(...) instead. Note that some of the default arguments are different, so please refer to the documentation for from_csv when changing your function calls\n",
            "  infer_datetime_format=infer_datetime_format)\n"
          ],
          "name": "stderr"
        }
      ]
    },
    {
      "cell_type": "markdown",
      "metadata": {
        "id": "RL5-1Um5zw9h",
        "colab_type": "text"
      },
      "source": [
        "RMSE of 22.311, which is slightly higher than the persistence model above.\n",
        "\n",
        "This may be because of the details of the ARIMA implementation, such as an automatic trend constant that is calculated and added."
      ]
    },
    {
      "cell_type": "markdown",
      "metadata": {
        "id": "uHvmnWzkXHeo",
        "colab_type": "text"
      },
      "source": [
        "##Grid Search ARIMA Hyperparameters\n",
        "\n",
        "The ACF and PACF plots suggest that we cannot do better than a persistence model on this dataset.\n",
        "\n",
        "To confirm this analysis, we can grid search a suite of ARIMA hyperparameters and check that no models result in better out of sample RMSE performance.\n",
        "\n",
        "In this section, we will search values of p, d, and q for combinations (skipping those that fail to converge), and find the combination that results in the best performance. We will use a grid search to explore all combinations in a subset of integer values.\n",
        "\n",
        "Specifically, we will search all combinations of the following parameters:\n",
        "\n",
        "- p: 0 to 4.\n",
        "- d: 0 to 2.\n",
        "- q: 0 to 4.<br>\n",
        "<br>\n",
        "This is (5 * 3 * 5), or 300 potential runs of the test harness, and will take some time to execute.\n",
        "\n",
        "We will also disable the automatic addition of a trend constant from the model by setting the ‘trend‘ argument to ‘nc‘ for no constant when calling fit()."
      ]
    },
    {
      "cell_type": "code",
      "metadata": {
        "id": "WE1TsC08Xlqe",
        "colab_type": "code",
        "outputId": "a5f3c8e3-366d-48b6-c847-0a345726d400",
        "colab": {
          "base_uri": "https://localhost:8080/",
          "height": 547
        }
      },
      "source": [
        "import warnings\n",
        "from pandas import Series\n",
        "from statsmodels.tsa.arima_model import ARIMA\n",
        "from sklearn.metrics import mean_squared_error\n",
        "from math import sqrt\n",
        " \n",
        "# evaluate an ARIMA model for a given order (p,d,q) and return RMSE\n",
        "def evaluate_arima_model(X, arima_order):\n",
        "\t# prepare training dataset\n",
        "\tX = X.astype('float32')\n",
        "\ttrain_size = int(len(X) * 0.50)\n",
        "\ttrain, test = X[0:train_size], X[train_size:]\n",
        "\thistory = [x for x in train]\n",
        "\t# make predictions\n",
        "\tpredictions = list()\n",
        "\tfor t in range(len(test)):\n",
        "\t\tmodel = ARIMA(history, order=arima_order)\n",
        "\t\t# model_fit = model.fit(disp=0)\n",
        "\t\tmodel_fit = model.fit(trend='nc', disp=0)\n",
        "\t\tyhat = model_fit.forecast()[0]\n",
        "\t\tpredictions.append(yhat)\n",
        "\t\thistory.append(test[t])\n",
        "\t# calculate out of sample error\n",
        "\tmse = mean_squared_error(test, predictions)\n",
        "\trmse = sqrt(mse)\n",
        "\treturn rmse\n",
        " \n",
        "# evaluate combinations of p, d and q values for an ARIMA model\n",
        "def evaluate_models(dataset, p_values, d_values, q_values):\n",
        "\tdataset = dataset.astype('float32')\n",
        "\tbest_score, best_cfg = float(\"inf\"), None\n",
        "\tfor p in p_values:\n",
        "\t\tfor d in d_values:\n",
        "\t\t\tfor q in q_values:\n",
        "\t\t\t\torder = (p,d,q)\n",
        "\t\t\t\ttry:\n",
        "\t\t\t\t\tmse = evaluate_arima_model(dataset, order)\n",
        "\t\t\t\t\tif mse < best_score:\n",
        "\t\t\t\t\t\tbest_score, best_cfg = mse, order\n",
        "\t\t\t\t\tprint('ARIMA%s RMSE=%.3f' % (order,mse))\n",
        "\t\t\t\texcept:\n",
        "\t\t\t\t\tcontinue\n",
        "\tprint('Best ARIMA%s RMSE=%.3f' % (best_cfg, best_score))\n",
        " \n",
        "# load dataset\n",
        "series = Series.from_csv('dataset.csv')\n",
        "# evaluate parameters\n",
        "p_values = range(0, 5)\n",
        "d_values = range(0, 3)\n",
        "q_values = range(0, 5)\n",
        "warnings.filterwarnings(\"ignore\")\n",
        "evaluate_models(series.values, p_values, d_values, q_values)"
      ],
      "execution_count": 0,
      "outputs": [
        {
          "output_type": "stream",
          "text": [
            "/usr/local/lib/python3.6/dist-packages/pandas/core/series.py:4141: FutureWarning: from_csv is deprecated. Please use read_csv(...) instead. Note that some of the default arguments are different, so please refer to the documentation for from_csv when changing your function calls\n",
            "  infer_datetime_format=infer_datetime_format)\n"
          ],
          "name": "stderr"
        },
        {
          "output_type": "stream",
          "text": [
            "ARIMA(0, 0, 1) RMSE=282.656\n",
            "ARIMA(0, 0, 4) RMSE=77.297\n",
            "ARIMA(0, 1, 1) RMSE=21.907\n",
            "ARIMA(0, 1, 2) RMSE=22.182\n",
            "ARIMA(0, 1, 3) RMSE=24.733\n",
            "ARIMA(0, 1, 4) RMSE=24.845\n",
            "ARIMA(0, 2, 1) RMSE=22.381\n",
            "ARIMA(0, 2, 2) RMSE=22.244\n",
            "ARIMA(1, 0, 0) RMSE=22.084\n",
            "ARIMA(1, 1, 0) RMSE=21.922\n",
            "ARIMA(1, 2, 0) RMSE=27.464\n",
            "ARIMA(1, 2, 1) RMSE=22.271\n",
            "ARIMA(2, 0, 0) RMSE=22.676\n",
            "ARIMA(2, 1, 0) RMSE=21.733\n",
            "ARIMA(2, 2, 0) RMSE=25.282\n",
            "ARIMA(3, 0, 0) RMSE=21.962\n",
            "ARIMA(3, 1, 0) RMSE=24.270\n",
            "ARIMA(3, 1, 1) RMSE=25.491\n",
            "ARIMA(3, 2, 0) RMSE=25.625\n",
            "ARIMA(3, 2, 1) RMSE=25.008\n",
            "ARIMA(4, 0, 0) RMSE=24.923\n",
            "ARIMA(4, 1, 0) RMSE=24.802\n",
            "ARIMA(4, 1, 1) RMSE=25.103\n",
            "ARIMA(4, 1, 2) RMSE=24.630\n",
            "ARIMA(4, 2, 0) RMSE=27.089\n",
            "ARIMA(4, 2, 1) RMSE=25.932\n",
            "ARIMA(4, 2, 2) RMSE=25.419\n",
            "Best ARIMA(2, 1, 0) RMSE=21.733\n"
          ],
          "name": "stdout"
        }
      ]
    },
    {
      "cell_type": "markdown",
      "metadata": {
        "id": "uQ0g4ylq0OvN",
        "colab_type": "text"
      },
      "source": [
        "Running the example runs through all combinations and reports the results on those that converge without error. The example takes a little over 2 minutes to run on modern hardware.\n",
        "\n",
        "The results show that the best configuration discovered was ARIMA(2, 1, 0) with an RMSE of 21.733, slightly lower than the manual persistence model tested earlier, but may or may not be significantly different.\n",
        "\n",
        "**We will select this ARIMA(2, 1, 0) model going forward.**"
      ]
    },
    {
      "cell_type": "markdown",
      "metadata": {
        "id": "mT4kQ9UuX78l",
        "colab_type": "text"
      },
      "source": [
        "##Review Residuals Error\n",
        "\n",
        "A good final check of a model is to review residual forecast errors.\n",
        "\n",
        "Ideally, the distribution of residual errors should be a Gaussian with a zero mean.\n",
        "\n",
        "We can check this by using summary statistics and plots to investigate the residual errors from the ARIMA(2, 1, 0) model. The example below calculates and summarizes the residual forecast errors.\n",
        "\n",
        "Running the example first describes the distribution of the residuals.\n",
        "\n",
        "We can see that the distribution has a right shift and that the mean is non-zero at 1.081624.\n",
        "\n",
        "This is perhaps a sign that the predictions are biased.\n",
        "\n",
        "The distribution of residual errors is also plotted.\n",
        "\n",
        "The graphs suggest a Gaussian-like distribution with a longer right tail, providing further evidence that perhaps a power transform might be worth exploring."
      ]
    },
    {
      "cell_type": "code",
      "metadata": {
        "id": "Q_9DunUyYDJV",
        "colab_type": "code",
        "outputId": "7f005f88-a678-4e27-a5b9-b069d858caf1",
        "colab": {
          "base_uri": "https://localhost:8080/",
          "height": 434
        }
      },
      "source": [
        "from pandas import Series\n",
        "from pandas import DataFrame\n",
        "from sklearn.metrics import mean_squared_error\n",
        "from statsmodels.tsa.arima_model import ARIMA\n",
        "from math import sqrt\n",
        "from matplotlib import pyplot\n",
        "# load data\n",
        "series = Series.from_csv('dataset.csv')\n",
        "# prepare data\n",
        "X = series.values\n",
        "X = X.astype('float32')\n",
        "train_size = int(len(X) * 0.50)\n",
        "train, test = X[0:train_size], X[train_size:]\n",
        "# walk-forward validation\n",
        "history = [x for x in train]\n",
        "predictions = list()\n",
        "for i in range(len(test)):\n",
        "\t# predict\n",
        "\tmodel = ARIMA(history, order=(2,1,0))\n",
        "\tmodel_fit = model.fit(trend='nc', disp=0)\n",
        "\tyhat = model_fit.forecast()[0]\n",
        "\tpredictions.append(yhat)\n",
        "\t# observation\n",
        "\tobs = test[i]\n",
        "\thistory.append(obs)\n",
        "# errors\n",
        "residuals = [test[i]-predictions[i] for i in range(len(test))]\n",
        "residuals = DataFrame(residuals)\n",
        "print(residuals.describe())\n",
        "pyplot.figure()\n",
        "pyplot.subplot(211)\n",
        "residuals.hist(ax=pyplot.gca())\n",
        "pyplot.subplot(212)\n",
        "residuals.plot(kind='kde', ax=pyplot.gca())\n",
        "pyplot.show()"
      ],
      "execution_count": 0,
      "outputs": [
        {
          "output_type": "stream",
          "text": [
            "               0\n",
            "count  35.000000\n",
            "mean    1.081625\n",
            "std    22.022566\n",
            "min   -52.103811\n",
            "25%   -16.202280\n",
            "50%    -0.459805\n",
            "75%    12.085093\n",
            "max    51.284333\n"
          ],
          "name": "stdout"
        },
        {
          "output_type": "display_data",
          "data": {
            "image/png": "[encoded data removed]",
            "text/plain": [
              "<Figure size 432x288 with 2 Axes>"
            ]
          },
          "metadata": {
            "tags": []
          }
        }
      ]
    },
    {
      "cell_type": "markdown",
      "metadata": {
        "id": "fYa3g9olYCIh",
        "colab_type": "text"
      },
      "source": [
        "We could use this information to bias-correct predictions by adding the mean residual error of 1.081624 to each forecast made.\n",
        "\n",
        "The performance of the predictions is improved very slightly from 21.733 to 21.706, which may or may not be significant.\n",
        "\n",
        "The summary of the forecast residual errors shows that the mean was indeed moved to a value very close to zero.\n",
        "\n",
        "Finally, density plots of the residual error do show a small shift towards zero."
      ]
    },
    {
      "cell_type": "code",
      "metadata": {
        "id": "hHK-JfcGYjrk",
        "colab_type": "code",
        "outputId": "22a38a15-288e-4fbb-dc71-59c13a95b1f7",
        "colab": {
          "base_uri": "https://localhost:8080/",
          "height": 451
        }
      },
      "source": [
        "from pandas import Series\n",
        "from pandas import DataFrame\n",
        "from sklearn.metrics import mean_squared_error\n",
        "from statsmodels.tsa.arima_model import ARIMA\n",
        "from math import sqrt\n",
        "from matplotlib import pyplot\n",
        "# load data\n",
        "series = Series.from_csv('dataset.csv')\n",
        "# prepare data\n",
        "X = series.values\n",
        "X = X.astype('float32')\n",
        "train_size = int(len(X) * 0.50)\n",
        "train, test = X[0:train_size], X[train_size:]\n",
        "# walk-forward validation\n",
        "history = [x for x in train]\n",
        "predictions = list()\n",
        "bias = 1.081624\n",
        "for i in range(len(test)):\n",
        "\t# predict\n",
        "\tmodel = ARIMA(history, order=(2,1,0))\n",
        "\tmodel_fit = model.fit(trend='nc', disp=0)\n",
        "\tyhat = bias + float(model_fit.forecast()[0])\n",
        "\tpredictions.append(yhat)\n",
        "\t# observation\n",
        "\tobs = test[i]\n",
        "\thistory.append(obs)\n",
        "# report performance\n",
        "mse = mean_squared_error(test, predictions)\n",
        "rmse = sqrt(mse)\n",
        "print('RMSE: %.3f' % rmse)\n",
        "# summarise residual errors\n",
        "residuals = [test[i]-predictions[i] for i in range(len(test))]\n",
        "residuals = DataFrame(residuals)\n",
        "print(residuals.describe())\n",
        "# plot residual errors\n",
        "pyplot.figure()\n",
        "pyplot.subplot(211)\n",
        "residuals.hist(ax=pyplot.gca())\n",
        "pyplot.subplot(212)\n",
        "residuals.plot(kind='kde', ax=pyplot.gca())\n",
        "pyplot.show()"
      ],
      "execution_count": 0,
      "outputs": [
        {
          "output_type": "stream",
          "text": [
            "RMSE: 21.706\n",
            "                  0\n",
            "count  3.500000e+01\n",
            "mean   6.256219e-07\n",
            "std    2.202257e+01\n",
            "min   -5.318544e+01\n",
            "25%   -1.728390e+01\n",
            "50%   -1.541429e+00\n",
            "75%    1.100347e+01\n",
            "max    5.020271e+01\n"
          ],
          "name": "stdout"
        },
        {
          "output_type": "display_data",
          "data": {
            "image/png": "[encoded data removed]",
            "text/plain": [
              "<Figure size 432x288 with 2 Axes>"
            ]
          },
          "metadata": {
            "tags": []
          }
        }
      ]
    },
    {
      "cell_type": "markdown",
      "metadata": {
        "id": "DeCS5V_41XzW",
        "colab_type": "text"
      },
      "source": [
        "It is debatable whether this bias correction is worth it, but we will use it for now."
      ]
    },
    {
      "cell_type": "markdown",
      "metadata": {
        "id": "6OiFr86L1nLW",
        "colab_type": "text"
      },
      "source": [
        "## Model Validation\n",
        "\n",
        "After models have been developed and a final model selected, it must be validated and finalized.\n",
        "\n",
        "Validation is an optional part of the process, but one that provides a ‘last check’ to ensure we have not fooled or misled ourselves.\n",
        "\n",
        "This section includes the following steps:\n",
        "\n",
        "1. Finalize Model: Train and save the final model.\n",
        "2. Make Prediction: Load the finalized model and make a prediction.\n",
        "3. Validate Model: Load and validate the final model."
      ]
    },
    {
      "cell_type": "markdown",
      "metadata": {
        "id": "Aj1iAlThXdnE",
        "colab_type": "text"
      },
      "source": [
        "### Finalize Model\n",
        "\n",
        "Finalizing the model involves fitting an ARIMA model on the entire dataset, in this case, on a transformed version of the entire dataset.\n",
        "\n",
        "Once fit, the model can be saved to file for later use.\n",
        "\n",
        "The example below trains an ARIMA(2,1,0) model on the dataset and saves the whole fit object and the bias to file."
      ]
    },
    {
      "cell_type": "code",
      "metadata": {
        "id": "38Khx17WYstN",
        "colab_type": "code",
        "colab": {}
      },
      "source": [
        "from pandas import Series\n",
        "from statsmodels.tsa.arima_model import ARIMA\n",
        "from scipy.stats import boxcox\n",
        "import numpy\n",
        " \n",
        "# monkey patch around bug in ARIMA class\n",
        "def __getnewargs__(self):\n",
        "\treturn ((self.endog),(self.k_lags, self.k_diff, self.k_ma))\n",
        " \n",
        "ARIMA.__getnewargs__ = __getnewargs__\n",
        " \n",
        "# load data\n",
        "series = Series.from_csv('dataset.csv')\n",
        "# prepare data\n",
        "X = series.values\n",
        "X = X.astype('float32')\n",
        "# fit model\n",
        "model = ARIMA(X, order=(2,1,0))\n",
        "model_fit = model.fit(trend='nc', disp=0)\n",
        "# bias constant, could be calculated from in-sample mean residual\n",
        "bias = 1.081624\n",
        "# save model\n",
        "model_fit.save('model.pkl')\n",
        "numpy.save('model_bias.npy', [bias])"
      ],
      "execution_count": 0,
      "outputs": []
    },
    {
      "cell_type": "markdown",
      "metadata": {
        "id": "9a9zkIlY14UK",
        "colab_type": "text"
      },
      "source": [
        "- model.pkl This is the ARIMAResult object from the call to ARIMA.fit(). This includes the coefficients and all other internal data returned when fitting the model.\n",
        "- model_bias.npy This is the bias value stored as a one-row, one-column NumPy array."
      ]
    },
    {
      "cell_type": "markdown",
      "metadata": {
        "id": "W23DVIDHY3AC",
        "colab_type": "text"
      },
      "source": [
        "### Make Prediction\n",
        "A natural case may be to load the model and make a single forecast.\n",
        "\n",
        "This is relatively straightforward and involves restoring the saved model and the bias and calling the forecast() function."
      ]
    },
    {
      "cell_type": "code",
      "metadata": {
        "id": "Yav87TShY6AK",
        "colab_type": "code",
        "outputId": "9c64a9aa-f70e-4681-8885-d2fbab620b79",
        "colab": {
          "base_uri": "https://localhost:8080/",
          "height": 34
        }
      },
      "source": [
        "from pandas import Series\n",
        "from statsmodels.tsa.arima_model import ARIMAResults\n",
        "import numpy\n",
        "model_fit = ARIMAResults.load('model.pkl')\n",
        "bias = numpy.load('model_bias.npy')\n",
        "yhat = bias + float(model_fit.forecast()[0])\n",
        "print('Predicted: %.3f' % yhat)"
      ],
      "execution_count": 0,
      "outputs": [
        {
          "output_type": "stream",
          "text": [
            "Predicted: 540.013\n"
          ],
          "name": "stdout"
        }
      ]
    },
    {
      "cell_type": "markdown",
      "metadata": {
        "id": "QRsJdDX82JNa",
        "colab_type": "text"
      },
      "source": [
        "If we peek inside validation.csv, we can see that the value on the first row for the next time period is 568. The prediction is in the right ballpark."
      ]
    },
    {
      "cell_type": "markdown",
      "metadata": {
        "id": "qpDrcuFqZAIX",
        "colab_type": "text"
      },
      "source": [
        "### Validate Model\n",
        "We can load the model and use it in a pretend operational manner.\n",
        "\n",
        "In the test harness section, we saved the final 10 years of the original dataset in a separate file to validate the final model.\n",
        "\n",
        "We can load this validation.csv file now and use it to see how well our model really is on “unseen” data.\n",
        "\n",
        "There are two ways we might proceed:\n",
        "\n",
        "Load the model and use it to forecast the next 10 years. The forecast beyond the first one or two years will quickly start to degrade in skill.\n",
        "Load the model and use it in a rolling-forecast manner, updating the transform and model for each time step. This is the preferred method as it is how one would use this model in practice as it would achieve the best performance.\n",
        "As with model evaluation in the previous sections, we will make predictions in a rolling-forecast manner. This means that we will step over lead times in the validation dataset and take the observations as an update to the history."
      ]
    },
    {
      "cell_type": "code",
      "metadata": {
        "id": "Vr1XlN0EZJlc",
        "colab_type": "code",
        "outputId": "3acc7b8a-0fbc-460d-dbe4-4dadc3c4f5c2",
        "colab": {
          "base_uri": "https://localhost:8080/",
          "height": 456
        }
      },
      "source": [
        "from pandas import Series\n",
        "from matplotlib import pyplot\n",
        "from statsmodels.tsa.arima_model import ARIMA\n",
        "from statsmodels.tsa.arima_model import ARIMAResults\n",
        "from sklearn.metrics import mean_squared_error\n",
        "from math import sqrt\n",
        "import numpy\n",
        "# load and prepare datasets\n",
        "dataset = Series.from_csv('dataset.csv')\n",
        "X = dataset.values.astype('float32')\n",
        "history = [x for x in X]\n",
        "validation = Series.from_csv('validation.csv')\n",
        "y = validation.values.astype('float32')\n",
        "# load model\n",
        "model_fit = ARIMAResults.load('model.pkl')\n",
        "bias = numpy.load('model_bias.npy')\n",
        "# make first prediction\n",
        "predictions = list()\n",
        "yhat = bias + float(model_fit.forecast()[0])\n",
        "predictions.append(yhat)\n",
        "history.append(y[0])\n",
        "print('>Predicted=%.3f, Expected=%3.f' % (yhat, y[0]))\n",
        "# rolling forecasts\n",
        "for i in range(1, len(y)):\n",
        "\t# predict\n",
        "\tmodel = ARIMA(history, order=(2,1,0))\n",
        "\tmodel_fit = model.fit(trend='nc', disp=0)\n",
        "\tyhat = bias + float(model_fit.forecast()[0])\n",
        "\tpredictions.append(yhat)\n",
        "\t# observation\n",
        "\tobs = y[i]\n",
        "\thistory.append(obs)\n",
        "\tprint('>Predicted=%.3f, Expected=%3.f' % (yhat, obs))\n",
        "# report performance\n",
        "mse = mean_squared_error(y, predictions)\n",
        "rmse = sqrt(mse)\n",
        "print('RMSE: %.3f' % rmse)\n",
        "pyplot.plot(y)\n",
        "pyplot.plot(predictions, color='red')\n",
        "pyplot.show()"
      ],
      "execution_count": 0,
      "outputs": [
        {
          "output_type": "stream",
          "text": [
            ">Predicted=540.013, Expected=568\n",
            ">Predicted=571.589, Expected=575\n",
            ">Predicted=573.289, Expected=579\n",
            ">Predicted=579.561, Expected=587\n",
            ">Predicted=588.063, Expected=602\n",
            ">Predicted=603.022, Expected=594\n",
            ">Predicted=593.178, Expected=587\n",
            ">Predicted=588.558, Expected=587\n",
            ">Predicted=588.797, Expected=625\n",
            ">Predicted=627.941, Expected=613\n",
            "RMSE: 16.532\n"
          ],
          "name": "stdout"
        },
        {
          "output_type": "display_data",
          "data": {
            "image/png": "[encoded data removed]",
            "text/plain": [
              "<Figure size 432x288 with 1 Axes>"
            ]
          },
          "metadata": {
            "tags": []
          }
        }
      ]
    },
    {
      "cell_type": "markdown",
      "metadata": {
        "id": "08Jxcc5J2aeX",
        "colab_type": "text"
      },
      "source": [
        "Running the example prints each prediction and expected value for the time steps in the validation dataset.\n",
        "\n",
        "The final RMSE for the validation period is predicted at 16 liters per capita per day. This is not too different from the expected error of 21, but I would expect that it is also not too different from a simple persistence model.\n",
        "\n",
        "A plot of the predictions compared to the validation dataset is also provided.\n",
        "\n",
        "The forecast does have the characteristics of a persistence forecast. This suggests that although this time series does have an obvious trend, it is still a reasonably difficult problem.\n"
      ]
    },
    {
      "cell_type": "markdown",
      "metadata": {
        "id": "IhPA3ylrZGv6",
        "colab_type": "text"
      },
      "source": [
        "## Summary\n",
        "\n",
        "We covered a lot of ground in this tutorial; specifically:\n",
        "\n",
        "- How to develop a test harness with a performance measure and evaluation method and how to quickly develop a baseline forecast and skill.\n",
        "- How to use time series analysis to raise ideas for how to best model the forecast problem.\n",
        "- How to develop an ARIMA model, save it, and later load it to make predictions on new data."
      ]
    }
  ]
}